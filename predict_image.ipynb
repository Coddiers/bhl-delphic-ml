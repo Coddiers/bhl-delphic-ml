{
 "cells": [
  {
   "cell_type": "code",
   "execution_count": 1,
   "id": "a6a17f89",
   "metadata": {},
   "outputs": [],
   "source": [
    "import cv2\n",
    "import tensorflow as tf\n",
    "import numpy as np\n",
    "import os\n",
    "import matplotlib.pyplot as plt\n",
    "import matplotlib.image as mpimg"
   ]
  },
  {
   "cell_type": "code",
   "execution_count": 2,
   "id": "792a2c26",
   "metadata": {},
   "outputs": [],
   "source": [
    "def predict_face(reshaped_face, model):\n",
    "    CATEGORIES = ['real', 'fake']\n",
    "    prediction = model.predict(reshaped_face)\n",
    "    return CATEGORIES[int(prediction[0][0])]"
   ]
  },
  {
   "cell_type": "code",
   "execution_count": 3,
   "id": "8e2cc225",
   "metadata": {},
   "outputs": [],
   "source": [
    "def reshape_face(face):\n",
    "    IMG_SIZE = 100\n",
    "    img_array = cv2.imread(face) \n",
    "    new_array = cv2.resize(img_array, (IMG_SIZE, IMG_SIZE))\n",
    "    return new_array.reshape(-1, IMG_SIZE, IMG_SIZE, 3)"
   ]
  },
  {
   "cell_type": "code",
   "execution_count": 4,
   "id": "bb930bb1",
   "metadata": {},
   "outputs": [],
   "source": [
    "def get_face(image_path):\n",
    "    file_name = 'haarcascade_frontalface_alt.xml'\n",
    "    lib_dir_path = r\"C:\\Users\\adria\\Desktop\\hackathon\\aplikacja\\venv\\Lib\\site-packages\\cv2\\data\"\n",
    "    face_cascade_path  = os.path.join(lib_dir_path, file_name)\n",
    "    face_cascade = cv2.CascadeClassifier(face_cascade_path)\n",
    "    image = cv2.imread(image_path)\n",
    "    gray = cv2.cvtColor(image, cv2.COLOR_BGR2GRAY)\n",
    "    \n",
    "    faces = face_cascade.detectMultiScale(gray, 1.3, 5)\n",
    "    face_exist = False\n",
    "    for (x,y,w,h) in faces:\n",
    "        face_exist = True\n",
    "        image = image[y:y+h, x:x+w]\n",
    "    if face_exist:\n",
    "        return image\n",
    "    else:\n",
    "        return None"
   ]
  },
  {
   "cell_type": "code",
   "execution_count": 5,
   "id": "201792d9",
   "metadata": {},
   "outputs": [],
   "source": [
    "def predict_image(source_video_path, model):\n",
    "    face = get_face(source_video_path)\n",
    "    if face is not None:\n",
    "        cv2.imwrite('temporary.png', face)\n",
    "        reshaped_face = reshape_face('temporary.png')\n",
    "        result = predict_face(reshaped_face, model)\n",
    "        print(result)\n",
    "        return result"
   ]
  },
  {
   "cell_type": "code",
   "execution_count": 6,
   "id": "d56a2862",
   "metadata": {},
   "outputs": [],
   "source": [
    "model = tf.keras.models.load_model('mesonet.model')"
   ]
  },
  {
   "cell_type": "code",
   "execution_count": 7,
   "id": "7bf04884",
   "metadata": {},
   "outputs": [
    {
     "name": "stdout",
     "output_type": "stream",
     "text": [
      "fake\n"
     ]
    },
    {
     "data": {
      "text/plain": [
       "'fake'"
      ]
     },
     "execution_count": 7,
     "metadata": {},
     "output_type": "execute_result"
    }
   ],
   "source": [
    "source_video_path = r\"C:\\Users\\adria\\Desktop\\hackathon\\fake1.jpg\"\n",
    "predict_image(source_video_path, model)"
   ]
  },
  {
   "cell_type": "code",
   "execution_count": 8,
   "id": "a3430076",
   "metadata": {},
   "outputs": [
    {
     "name": "stdout",
     "output_type": "stream",
     "text": [
      "real\n"
     ]
    },
    {
     "data": {
      "text/plain": [
       "'real'"
      ]
     },
     "execution_count": 8,
     "metadata": {},
     "output_type": "execute_result"
    }
   ],
   "source": [
    "source_video_path = r\"C:\\Users\\adria\\Desktop\\hackathon\\real1.jpg\"\n",
    "predict_image(source_video_path, model)"
   ]
  },
  {
   "cell_type": "code",
   "execution_count": 9,
   "id": "0ce23ccc",
   "metadata": {},
   "outputs": [
    {
     "name": "stdout",
     "output_type": "stream",
     "text": [
      "fake\n"
     ]
    },
    {
     "data": {
      "text/plain": [
       "'fake'"
      ]
     },
     "execution_count": 9,
     "metadata": {},
     "output_type": "execute_result"
    }
   ],
   "source": [
    "source_video_path = r\"C:\\Users\\adria\\Desktop\\hackathon\\fake2.jpg\"\n",
    "predict_image(source_video_path, model)"
   ]
  },
  {
   "cell_type": "code",
   "execution_count": 10,
   "id": "9a07d9d5",
   "metadata": {},
   "outputs": [
    {
     "name": "stdout",
     "output_type": "stream",
     "text": [
      "real\n"
     ]
    },
    {
     "data": {
      "text/plain": [
       "'real'"
      ]
     },
     "execution_count": 10,
     "metadata": {},
     "output_type": "execute_result"
    }
   ],
   "source": [
    "source_video_path = r\"C:\\Users\\adria\\Desktop\\hackathon\\real2.jpg\"\n",
    "predict_image(source_video_path, model)"
   ]
  },
  {
   "cell_type": "code",
   "execution_count": 16,
   "id": "54f3c350",
   "metadata": {},
   "outputs": [],
   "source": [
    "import requests\n",
    "from PIL import Image\n",
    "from io import BytesIO"
   ]
  },
  {
   "cell_type": "code",
   "execution_count": 137,
   "id": "c799d2c9",
   "metadata": {},
   "outputs": [],
   "source": [
    "def fake_rectangle(image_path):\n",
    "    file_name = 'haarcascade_frontalface_alt.xml'\n",
    "    lib_dir_path = r\"C:\\Users\\adria\\Desktop\\hackathon\\aplikacja\\venv\\Lib\\site-packages\\cv2\\data\"\n",
    "    face_cascade_path  = os.path.join(lib_dir_path, file_name)\n",
    "    face_cascade = cv2.CascadeClassifier(face_cascade_path)\n",
    "    image = cv2.imread(image_path)\n",
    "    gray = cv2.cvtColor(image, cv2.COLOR_BGR2GRAY)\n",
    "    \n",
    "    faces = face_cascade.detectMultiScale(gray, 1.3, 5)\n",
    "    face_exist = False\n",
    "    for (x,y,w,h) in faces:\n",
    "        face_exist = True\n",
    "        \n",
    "        # font\n",
    "        font = cv2.FONT_HERSHEY_SIMPLEX\n",
    "\n",
    "        # org\n",
    "        org = (x,y+h)\n",
    "\n",
    "        # fontScale\n",
    "        fontScale = 3\n",
    "\n",
    "        # Blue color in BGR\n",
    "        color = (0, 0, 255)\n",
    "\n",
    "        # Line thickness of 2 px\n",
    "        thickness = 3\n",
    "\n",
    "        # Using cv2.putText() method\n",
    "        image = cv2.putText(image, 'FAKE', org, font, \n",
    "                       fontScale, color, thickness, cv2.LINE_AA)\n",
    "    \n",
    "        cv2.rectangle(image,(x,y),(x+w,y+h),(0,0,255),3)\n",
    "    if face_exist:\n",
    "        return image\n",
    "    else:\n",
    "        return None"
   ]
  },
  {
   "cell_type": "code",
   "execution_count": 153,
   "id": "f5f87cee",
   "metadata": {
    "scrolled": true
   },
   "outputs": [
    {
     "name": "stdout",
     "output_type": "stream",
     "text": [
      "200\n",
      "{'id': '625150ad7b55d22a7879b85a', 'pictureFileId': '625150ad7b55d22a7879b859', 'createDate': '2022-04-09T09:23:57.216Z', 'verified': False, 'verifiedDate': None, 'fake': False, 'pictureIDs': []}\n",
      "200\n",
      "fake\n",
      "fake\n",
      "200\n",
      "b'{\"id\":\"625150ad7b55d22a7879b85a\",\"pictureFileId\":\"625150ad7b55d22a7879b859\",\"createDate\":\"2022-04-09T09:23:57.216Z\",\"verified\":true,\"verifiedDate\":\"2022-04-09T09:25:23.561319828Z\",\"fake\":true,\"pictureIDs\":[\"625151037b55d22a7879b85f\"]}'\n"
     ]
    }
   ],
   "source": [
    "next_photo = requests.get(\"https://bhl22-delphic-backend.azurewebsites.net/api/picture/next\")\n",
    "print(next_photo.status_code)\n",
    "if next_photo.status_code == 200:\n",
    "    print(next_photo.json())\n",
    "    pictureFileId = next_photo.json()['pictureFileId']\n",
    "    picture = requests.get(\"https://bhl22-delphic-backend.azurewebsites.net/api/file/{}\".format(pictureFileId))\n",
    "    print(picture.status_code)\n",
    "    if picture.status_code == 200:\n",
    "        image = Image.open(BytesIO(picture.content))\n",
    "        image.save(\"temopraryPIL.jpg\")\n",
    "        result = predict_image(\"temopraryPIL.jpg\", model)\n",
    "        if result == \"fake\":\n",
    "            print(result)\n",
    "            fakeImg = fake_rectangle(\"temopraryPIL.jpg\")\n",
    "            cv2.imwrite('fakeImg.png', fakeImg)\n",
    "            pictureId = next_photo.json()['id']\n",
    "            data_dict = {'file': fakeImg}\n",
    "            files = {'file': open('fakeImg.png', 'rb')}\n",
    "            send_request = requests.post(\"https://bhl22-delphic-backend.azurewebsites.net/api/picture/setAsFake/{}\".format(pictureId),\n",
    "                                        files=files)\n",
    "            print(send_request.status_code)\n",
    "            print(send_request.content)\n",
    "        else:\n",
    "            pictureId = next_photo.json()['id']\n",
    "            data_dict = {'file': fakeImg}\n",
    "            print(pictureId)\n",
    "            send_request = requests.post(\"https://bhl22-delphic-backend.azurewebsites.net/api/picture/setAsReal/{}\".format(pictureId))\n",
    "            print(send_request.status_code)\n",
    "            print(send_request.content)"
   ]
  },
  {
   "cell_type": "code",
   "execution_count": 144,
   "id": "06fe9fca",
   "metadata": {},
   "outputs": [
    {
     "name": "stdout",
     "output_type": "stream",
     "text": [
      "200\n",
      "{'id': '62514a927b55d22a7879b843', 'pictureFileId': '62514a927b55d22a7879b842', 'createDate': '2022-04-09T08:57:54.089Z', 'verified': True, 'verifiedDate': '2022-04-09T09:01:08.792Z', 'fake': False, 'pictureIDs': []}\n",
      "b'{\"id\":\"62514a927b55d22a7879b843\",\"pictureFileId\":\"62514a927b55d22a7879b842\",\"createDate\":\"2022-04-09T08:57:54.089Z\",\"verified\":true,\"verifiedDate\":\"2022-04-09T09:01:08.792Z\",\"fake\":false,\"pictureIDs\":[]}'\n"
     ]
    },
    {
     "ename": "UnidentifiedImageError",
     "evalue": "cannot identify image file <_io.BytesIO object at 0x0000026B666C00E0>",
     "output_type": "error",
     "traceback": [
      "\u001b[1;31m---------------------------------------------------------------------------\u001b[0m",
      "\u001b[1;31mUnidentifiedImageError\u001b[0m                    Traceback (most recent call last)",
      "Input \u001b[1;32mIn [144]\u001b[0m, in \u001b[0;36m<cell line: 3>\u001b[1;34m()\u001b[0m\n\u001b[0;32m      4\u001b[0m \u001b[38;5;28mprint\u001b[39m(sent_photo\u001b[38;5;241m.\u001b[39mjson())\n\u001b[0;32m      5\u001b[0m \u001b[38;5;28mprint\u001b[39m(sent_photo\u001b[38;5;241m.\u001b[39mcontent)\n\u001b[1;32m----> 6\u001b[0m image \u001b[38;5;241m=\u001b[39m \u001b[43mImage\u001b[49m\u001b[38;5;241;43m.\u001b[39;49m\u001b[43mopen\u001b[49m\u001b[43m(\u001b[49m\u001b[43mBytesIO\u001b[49m\u001b[43m(\u001b[49m\u001b[43msent_photo\u001b[49m\u001b[38;5;241;43m.\u001b[39;49m\u001b[43mcontent\u001b[49m\u001b[43m)\u001b[49m\u001b[43m)\u001b[49m\n\u001b[0;32m      7\u001b[0m image\u001b[38;5;241m.\u001b[39msave(\u001b[38;5;124m\"\u001b[39m\u001b[38;5;124mfakeeee.jpg\u001b[39m\u001b[38;5;124m\"\u001b[39m)\n",
      "File \u001b[1;32mc:\\users\\adria\\desktop\\hackathon\\aplikacja\\venv\\lib\\site-packages\\PIL\\Image.py:3123\u001b[0m, in \u001b[0;36mopen\u001b[1;34m(fp, mode, formats)\u001b[0m\n\u001b[0;32m   3121\u001b[0m \u001b[38;5;28;01mfor\u001b[39;00m message \u001b[38;5;129;01min\u001b[39;00m accept_warnings:\n\u001b[0;32m   3122\u001b[0m     warnings\u001b[38;5;241m.\u001b[39mwarn(message)\n\u001b[1;32m-> 3123\u001b[0m \u001b[38;5;28;01mraise\u001b[39;00m UnidentifiedImageError(\n\u001b[0;32m   3124\u001b[0m     \u001b[38;5;124m\"\u001b[39m\u001b[38;5;124mcannot identify image file \u001b[39m\u001b[38;5;132;01m%r\u001b[39;00m\u001b[38;5;124m\"\u001b[39m \u001b[38;5;241m%\u001b[39m (filename \u001b[38;5;28;01mif\u001b[39;00m filename \u001b[38;5;28;01melse\u001b[39;00m fp)\n\u001b[0;32m   3125\u001b[0m )\n",
      "\u001b[1;31mUnidentifiedImageError\u001b[0m: cannot identify image file <_io.BytesIO object at 0x0000026B666C00E0>"
     ]
    }
   ],
   "source": [
    "sent_photo = requests.get(\"https://bhl22-delphic-backend.azurewebsites.net/api/picture/{}\".format(\"62514a927b55d22a7879b843\"))\n",
    "print(next_photo.status_code)\n",
    "if sent_photo.status_code == 200:\n",
    "    print(sent_photo.json())\n",
    "    print(sent_photo.content)\n",
    "    image = Image.open(BytesIO(sent_photo.content))\n",
    "    image.save(\"fakeeee.jpg\")"
   ]
  },
  {
   "cell_type": "code",
   "execution_count": null,
   "id": "ffdfd3c7",
   "metadata": {},
   "outputs": [],
   "source": []
  }
 ],
 "metadata": {
  "kernelspec": {
   "display_name": "Python 3 (ipykernel)",
   "language": "python",
   "name": "python3"
  },
  "language_info": {
   "codemirror_mode": {
    "name": "ipython",
    "version": 3
   },
   "file_extension": ".py",
   "mimetype": "text/x-python",
   "name": "python",
   "nbconvert_exporter": "python",
   "pygments_lexer": "ipython3",
   "version": "3.8.6"
  }
 },
 "nbformat": 4,
 "nbformat_minor": 5
}
