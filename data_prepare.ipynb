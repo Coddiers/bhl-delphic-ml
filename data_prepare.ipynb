{
 "cells": [
  {
   "cell_type": "code",
   "execution_count": 1,
   "id": "c0c519fd",
   "metadata": {},
   "outputs": [],
   "source": [
    "import numpy as np\n",
    "import pandas as pd\n",
    "from skimage.color import rgb2gray\n",
    "import cv2\n",
    "import matplotlib.pyplot as plt\n",
    "%matplotlib inline\n",
    "from scipy import ndimage\n",
    "import os\n",
    "import sys\n",
    "import random\n",
    "import math\n",
    "import numpy as np\n",
    "import skimage.io\n",
    "import matplotlib\n",
    "import matplotlib.pyplot as plt\n",
    "import shutil\n",
    "from PIL import Image \n",
    "import PIL"
   ]
  },
  {
   "cell_type": "code",
   "execution_count": 2,
   "id": "0fff4f3f",
   "metadata": {},
   "outputs": [
    {
     "data": {
      "text/html": [
       "<div>\n",
       "<style scoped>\n",
       "    .dataframe tbody tr th:only-of-type {\n",
       "        vertical-align: middle;\n",
       "    }\n",
       "\n",
       "    .dataframe tbody tr th {\n",
       "        vertical-align: top;\n",
       "    }\n",
       "\n",
       "    .dataframe thead th {\n",
       "        text-align: right;\n",
       "    }\n",
       "</style>\n",
       "<table border=\"1\" class=\"dataframe\">\n",
       "  <thead>\n",
       "    <tr style=\"text-align: right;\">\n",
       "      <th></th>\n",
       "      <th>label</th>\n",
       "      <th>split</th>\n",
       "      <th>original</th>\n",
       "    </tr>\n",
       "  </thead>\n",
       "  <tbody>\n",
       "    <tr>\n",
       "      <th>aagfhgtpmv.mp4</th>\n",
       "      <td>FAKE</td>\n",
       "      <td>train</td>\n",
       "      <td>vudstovrck.mp4</td>\n",
       "    </tr>\n",
       "    <tr>\n",
       "      <th>aapnvogymq.mp4</th>\n",
       "      <td>FAKE</td>\n",
       "      <td>train</td>\n",
       "      <td>jdubbvfswz.mp4</td>\n",
       "    </tr>\n",
       "    <tr>\n",
       "      <th>abarnvbtwb.mp4</th>\n",
       "      <td>REAL</td>\n",
       "      <td>train</td>\n",
       "      <td>None</td>\n",
       "    </tr>\n",
       "    <tr>\n",
       "      <th>abofeumbvv.mp4</th>\n",
       "      <td>FAKE</td>\n",
       "      <td>train</td>\n",
       "      <td>atvmxvwyns.mp4</td>\n",
       "    </tr>\n",
       "    <tr>\n",
       "      <th>abqwwspghj.mp4</th>\n",
       "      <td>FAKE</td>\n",
       "      <td>train</td>\n",
       "      <td>qzimuostzz.mp4</td>\n",
       "    </tr>\n",
       "  </tbody>\n",
       "</table>\n",
       "</div>"
      ],
      "text/plain": [
       "               label  split        original\n",
       "aagfhgtpmv.mp4  FAKE  train  vudstovrck.mp4\n",
       "aapnvogymq.mp4  FAKE  train  jdubbvfswz.mp4\n",
       "abarnvbtwb.mp4  REAL  train            None\n",
       "abofeumbvv.mp4  FAKE  train  atvmxvwyns.mp4\n",
       "abqwwspghj.mp4  FAKE  train  qzimuostzz.mp4"
      ]
     },
     "execution_count": 2,
     "metadata": {},
     "output_type": "execute_result"
    }
   ],
   "source": [
    "trainDataFrame = pd.read_json('./data/train/metadata.json').T\n",
    "trainDataFrame.head()"
   ]
  },
  {
   "cell_type": "code",
   "execution_count": 3,
   "id": "e0cbdbbf",
   "metadata": {},
   "outputs": [
    {
     "data": {
      "text/plain": [
       "400"
      ]
     },
     "execution_count": 3,
     "metadata": {},
     "output_type": "execute_result"
    }
   ],
   "source": [
    "len(trainDataFrame)"
   ]
  },
  {
   "cell_type": "code",
   "execution_count": 4,
   "id": "1bb0ec8a",
   "metadata": {},
   "outputs": [],
   "source": [
    "def isDirectoryEmpty(path):\n",
    "    dir = os.listdir(path)\n",
    "    if len(dir) == 0:\n",
    "        return True\n",
    "    else:\n",
    "        return False"
   ]
  },
  {
   "cell_type": "code",
   "execution_count": 5,
   "id": "30f16bd5",
   "metadata": {},
   "outputs": [
    {
     "name": "stdout",
     "output_type": "stream",
     "text": [
      "Directories are not empty\n"
     ]
    }
   ],
   "source": [
    "all_dir_path = r\"C:\\Users\\adria\\Desktop\\hackathon\\aplikacja\\data\\train\\all_videos\"\n",
    "fake_dir_path = r\"C:\\Users\\adria\\Desktop\\hackathon\\aplikacja\\data\\train\\fake_videos\"\n",
    "real_dir_path = r\"C:\\Users\\adria\\Desktop\\hackathon\\aplikacja\\data\\train\\real_videos\"\n",
    "\n",
    "if isDirectoryEmpty(fake_dir_path) and isDirectoryEmpty(real_dir_path):\n",
    "    for i in range(len(trainDataFrame)):\n",
    "        if trainDataFrame.iloc[i].label == 'FAKE':\n",
    "            file_name = trainDataFrame.iloc[i].name\n",
    "\n",
    "            original = os.path.join(all_dir_path, file_name)\n",
    "            target   = os.path.join(fake_dir_path, file_name)\n",
    "            shutil.copyfile(original, target)\n",
    "\n",
    "        if trainDataFrame.iloc[i].label == 'REAL':\n",
    "            file_name = trainDataFrame.iloc[i].name\n",
    "\n",
    "            original = os.path.join(all_dir_path, file_name)\n",
    "            target   = os.path.join(real_dir_path, file_name)\n",
    "            shutil.copyfile(original, target)\n",
    "else:\n",
    "    print(\"Directories are not empty\")"
   ]
  },
  {
   "cell_type": "code",
   "execution_count": 6,
   "id": "4ec17e7d",
   "metadata": {},
   "outputs": [],
   "source": [
    "def saveToFolder(pathToSave, counter, image, x, y, w, h):\n",
    "    new_path = os.path.join(pathToSave, str(counter) + '.jpg')\n",
    "    print(\"Image saved to {}\".format(new_path))\n",
    "    cv2.imwrite(new_path, image[y:y+h, x:x+w])"
   ]
  },
  {
   "cell_type": "code",
   "execution_count": 7,
   "id": "034dd3d0",
   "metadata": {},
   "outputs": [],
   "source": [
    "def face_detection_and_save_image(image, counter, pathToSaveFile, path_to_save_video):\n",
    "    file_name = 'haarcascade_frontalface_alt.xml'\n",
    "    lib_dir_path = r\"C:\\Users\\adria\\Desktop\\hackathon\\aplikacja\\venv\\Lib\\site-packages\\cv2\\data\"\n",
    "    face_cascade_path = original = os.path.join(lib_dir_path, file_name)\n",
    "    face_cascade = cv2.CascadeClassifier(face_cascade_path)\n",
    "\n",
    "    gray = cv2.cvtColor(image, cv2.COLOR_BGR2GRAY)\n",
    "    \n",
    "    faces = face_cascade.detectMultiScale(gray, 1.3, 5)\n",
    "    \n",
    "    \n",
    "    for (x,y,w,h) in faces:\n",
    "        saveToFolder(pathToSaveFile, counter, image, x, y, w ,h)\n",
    "#         saveToFolder(path_to_save_video, counter, image, x, y, w ,h)\n",
    "        image = cv2.rectangle(image,(x,y),(x+w,y+h),(255,0,0),2)\n",
    "        roi_gray = gray[y:y+h, x:x+w]\n",
    "        roi_color = image[y:y+h, x:x+w]\n",
    "        \n",
    "    return image"
   ]
  },
  {
   "cell_type": "code",
   "execution_count": 8,
   "id": "a174975b",
   "metadata": {},
   "outputs": [],
   "source": [
    "def save_faces_from_video(dir_path, parent_path_to_save_video, pathToSaveFile):\n",
    "    list_files = os.listdir(dir_path)\n",
    "    counter = 0\n",
    "    for file in list_files:\n",
    "        file_directory = file[1:-4]\n",
    "        print(file)\n",
    "        print(\"Cut string: {}\".format(file[1:-4]))\n",
    "        path_to_save_video = os.path.join(parent_path_to_save_video, file_directory)\n",
    "        os.makedirs(path_to_save_video)\n",
    "        print(\"Directory {} created\".format(file_directory))\n",
    "        path = os.path.join(dir_path, file)\n",
    "        \n",
    "        vidcap = cv2.VideoCapture(path)\n",
    "        success, image = vidcap.read()\n",
    "        while success:\n",
    "            counter = counter + 1\n",
    "            print(counter)\n",
    "            ret, frame = vidcap.read()\n",
    "            if frame is not None:\n",
    "                frame = face_detection_and_save_image(frame, counter, pathToSaveFile, path_to_save_video)\n",
    "            else: \n",
    "                break"
   ]
  },
  {
   "cell_type": "code",
   "execution_count": 9,
   "id": "15f6e5dd",
   "metadata": {},
   "outputs": [
    {
     "name": "stdout",
     "output_type": "stream",
     "text": [
      "Directories are not empty\n"
     ]
    }
   ],
   "source": [
    "dir_path = os.path.join(r\"C:\\Users\\adria\\Desktop\\hackathon\\aplikacja\\data\\train\\fake_videos\")\n",
    "parent_path_to_save_video = r\"C:\\Users\\adria\\Desktop\\hackathon\\aplikacja\\data\\train\\fake_faces_in_videos\"\n",
    "pathToSaveFile = r\"C:\\Users\\adria\\Desktop\\hackathon\\aplikacja\\data\\train\\fake_faces_from_images\"\n",
    "if isDirectoryEmpty(pathToSaveFile) and isDirectoryEmpty(parent_path_to_save_video):\n",
    "    save_faces_from_video(dir_path, parent_path_to_save_video, pathToSaveFile)\n",
    "else:\n",
    "    print(\"Directories are not empty\")"
   ]
  },
  {
   "cell_type": "code",
   "execution_count": 10,
   "id": "12ffdd71",
   "metadata": {},
   "outputs": [],
   "source": [
    "def create_dataset_to_predict(source_path, dest_path, size_min, size_max):\n",
    "    list_folder = os.listdir(source_path)\n",
    "    for folder in list_folder:\n",
    "        counter = 0\n",
    "        print(folder)\n",
    "        fake_faces_folder = os.path.join(source_path,folder)\n",
    "        print(fake_faces_folder)\n",
    "        list_images = os.listdir(fake_faces_folder)\n",
    "        for image in list_images:\n",
    "            print(counter)\n",
    "            if counter > size_min and counter < size_max:\n",
    "                image_path = os.path.join(fake_faces_folder, image)\n",
    "                \n",
    "                print(\"Copy image from:\")\n",
    "                print(image_path)\n",
    "                print(\"to:\")\n",
    "                print(dest_path)\n",
    "                \n",
    "                \n",
    "                target   = os.path.join(dest_path,image)\n",
    "                shutil.copyfile(image_path, target)\n",
    "                print(\"Copied\")\n",
    "            counter += 1\n",
    "        print(counter)"
   ]
  },
  {
   "cell_type": "code",
   "execution_count": 11,
   "id": "b17fd540",
   "metadata": {},
   "outputs": [
    {
     "name": "stdout",
     "output_type": "stream",
     "text": [
      "Directory is not empty\n"
     ]
    }
   ],
   "source": [
    "fake_faces = r\"C:\\Users\\adria\\Desktop\\hackathon\\aplikacja\\data\\train\\fake_faces_in_videos\"\n",
    "new_fake_faces = r\"C:\\Users\\adria\\Desktop\\hackathon\\aplikacja\\data_to_train\\fake\"\n",
    "if isDirectoryEmpty(new_fake_faces):\n",
    "    create_dataset_to_predict(source_path=fake_faces, dest_path=new_fake_faces, size_min=0, size_max=50)\n",
    "else:\n",
    "    print(\"Directory is not empty\")"
   ]
  },
  {
   "cell_type": "code",
   "execution_count": 12,
   "id": "3d8fea73",
   "metadata": {},
   "outputs": [
    {
     "name": "stdout",
     "output_type": "stream",
     "text": [
      "Directory is not empty\n"
     ]
    }
   ],
   "source": [
    "real_faces = r\"C:\\Users\\adria\\Desktop\\hackathon\\aplikacja\\data\\train\\real_faces_in_videos\"\n",
    "new_real_faces = r\"C:\\Users\\adria\\Desktop\\hackathon\\aplikacja\\data_to_train\\real\"\n",
    "if isDirectoryEmpty(new_real_faces):\n",
    "    create_dataset_to_predict(source_path=real_faces, dest_path=new_real_faces, size_min=0, size_max=220)\n",
    "else:\n",
    "    print(\"Directory is not empty\")"
   ]
  },
  {
   "cell_type": "code",
   "execution_count": 13,
   "id": "16ad0729",
   "metadata": {},
   "outputs": [
    {
     "name": "stdout",
     "output_type": "stream",
     "text": [
      "Directory is not empty\n"
     ]
    }
   ],
   "source": [
    "fake_faces = r\"C:\\Users\\adria\\Desktop\\hackathon\\aplikacja\\data\\train\\fake_faces_in_videos\"\n",
    "new_fake_faces = r\"C:\\Users\\adria\\Desktop\\hackathon\\aplikacja\\data_to_test\\fake\"\n",
    "if isDirectoryEmpty(new_fake_faces):\n",
    "    create_dataset_to_predict(source_path=fake_faces, dest_path=new_fake_faces, size_min=51, size_max=62)\n",
    "else:\n",
    "    print(\"Directory is not empty\")"
   ]
  },
  {
   "cell_type": "code",
   "execution_count": 19,
   "id": "7301fc40",
   "metadata": {},
   "outputs": [
    {
     "name": "stdout",
     "output_type": "stream",
     "text": [
      "0\n",
      "real\n",
      "1\n",
      "fake\n"
     ]
    }
   ],
   "source": [
    "DATADIR = r\"C:\\Users\\adria\\Desktop\\hackathon\\aplikacja\\data_to_train\"\n",
    "CATEGORIES = ['real', 'fake']\n",
    "training_data = []\n",
    "IMG_SIZE = 100\n",
    "\n",
    "def create_training_data():\n",
    "    for category in CATEGORIES:\n",
    "        path = os.path.join(DATADIR, category)\n",
    "        class_num = CATEGORIES.index(category)\n",
    "        print(class_num)\n",
    "        print(category)\n",
    "        for img in os.listdir(path):\n",
    "            try:\n",
    "                img_array = cv2.imread(os.path.join(path,img))\n",
    "                new_array = cv2.resize(img_array, (IMG_SIZE, IMG_SIZE))\n",
    "                training_data.append([new_array, class_num])\n",
    "            except Exception as e:\n",
    "                pass\n",
    "create_training_data()"
   ]
  },
  {
   "cell_type": "code",
   "execution_count": 20,
   "id": "a8f37d9d",
   "metadata": {},
   "outputs": [],
   "source": [
    "import random\n",
    "random.shuffle(training_data)"
   ]
  },
  {
   "cell_type": "code",
   "execution_count": 21,
   "id": "866a23a0",
   "metadata": {},
   "outputs": [],
   "source": [
    "X = []\n",
    "y = []"
   ]
  },
  {
   "cell_type": "code",
   "execution_count": 22,
   "id": "22346d5c",
   "metadata": {},
   "outputs": [],
   "source": [
    "for features, label in training_data:\n",
    "    X.append(features)\n",
    "    y.append(label)\n",
    "\n",
    "X = np.array(X).reshape(-1, IMG_SIZE, IMG_SIZE, 3)\n",
    "y = np.array(y)"
   ]
  },
  {
   "cell_type": "code",
   "execution_count": 23,
   "id": "304d4cde",
   "metadata": {},
   "outputs": [
    {
     "name": "stdout",
     "output_type": "stream",
     "text": [
      "(125536, 100, 100, 3)\n"
     ]
    }
   ],
   "source": [
    "print(X.shape)"
   ]
  },
  {
   "cell_type": "code",
   "execution_count": 24,
   "id": "7e2c966c",
   "metadata": {},
   "outputs": [],
   "source": [
    "import pickle\n",
    "\n",
    "pickle_out = open('XColorTrain.pickle', 'wb')\n",
    "pickle.dump(X, pickle_out)\n",
    "pickle_out.close()\n",
    "\n",
    "pickle_out = open('yColorTrain.pickle', 'wb')\n",
    "pickle.dump(y, pickle_out)\n",
    "pickle_out.close()"
   ]
  },
  {
   "cell_type": "code",
   "execution_count": null,
   "id": "0456d11b",
   "metadata": {},
   "outputs": [],
   "source": []
  }
 ],
 "metadata": {
  "kernelspec": {
   "display_name": "Python 3 (ipykernel)",
   "language": "python",
   "name": "python3"
  },
  "language_info": {
   "codemirror_mode": {
    "name": "ipython",
    "version": 3
   },
   "file_extension": ".py",
   "mimetype": "text/x-python",
   "name": "python",
   "nbconvert_exporter": "python",
   "pygments_lexer": "ipython3",
   "version": "3.8.6"
  }
 },
 "nbformat": 4,
 "nbformat_minor": 5
}
