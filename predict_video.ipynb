{
 "cells": [
  {
   "cell_type": "code",
   "execution_count": 1,
   "id": "4d159d4d",
   "metadata": {},
   "outputs": [
    {
     "name": "stdout",
     "output_type": "stream",
     "text": [
      "Requirement already satisfied: matplotlib in c:\\users\\adria\\desktop\\hackathon\\aplikacja\\venv\\lib\\site-packages (3.5.1)\n",
      "Requirement already satisfied: cycler>=0.10 in c:\\users\\adria\\desktop\\hackathon\\aplikacja\\venv\\lib\\site-packages (from matplotlib) (0.11.0)\n",
      "Requirement already satisfied: pillow>=6.2.0 in c:\\users\\adria\\desktop\\hackathon\\aplikacja\\venv\\lib\\site-packages (from matplotlib) (9.1.0)\n",
      "Requirement already satisfied: python-dateutil>=2.7 in c:\\users\\adria\\desktop\\hackathon\\aplikacja\\venv\\lib\\site-packages (from matplotlib) (2.8.2)\n",
      "Requirement already satisfied: packaging>=20.0 in c:\\users\\adria\\desktop\\hackathon\\aplikacja\\venv\\lib\\site-packages (from matplotlib) (21.3)\n",
      "Requirement already satisfied: fonttools>=4.22.0 in c:\\users\\adria\\desktop\\hackathon\\aplikacja\\venv\\lib\\site-packages (from matplotlib) (4.32.0)\n",
      "Requirement already satisfied: numpy>=1.17 in c:\\users\\adria\\desktop\\hackathon\\aplikacja\\venv\\lib\\site-packages (from matplotlib) (1.22.3)\n",
      "Requirement already satisfied: pyparsing>=2.2.1 in c:\\users\\adria\\desktop\\hackathon\\aplikacja\\venv\\lib\\site-packages (from matplotlib) (3.0.7)\n",
      "Requirement already satisfied: kiwisolver>=1.0.1 in c:\\users\\adria\\desktop\\hackathon\\aplikacja\\venv\\lib\\site-packages (from matplotlib) (1.4.2)\n",
      "Requirement already satisfied: six>=1.5 in c:\\users\\adria\\desktop\\hackathon\\aplikacja\\venv\\lib\\site-packages (from python-dateutil>=2.7->matplotlib) (1.16.0)\n"
     ]
    },
    {
     "name": "stderr",
     "output_type": "stream",
     "text": [
      "WARNING: You are using pip version 21.1.2; however, version 22.0.4 is available.\n",
      "You should consider upgrading via the 'C:\\Users\\adria\\Desktop\\hackathon\\aplikacja\\venv\\Scripts\\python.exe -m pip install --upgrade pip' command.\n"
     ]
    }
   ],
   "source": [
    "!pip install matplotlib"
   ]
  },
  {
   "cell_type": "code",
   "execution_count": 2,
   "id": "c4031e0e",
   "metadata": {},
   "outputs": [],
   "source": [
    "import cv2\n",
    "import tensorflow as tf\n",
    "import numpy as np\n",
    "import os\n",
    "import matplotlib.pyplot as plt\n",
    "import matplotlib.image as mpimg"
   ]
  },
  {
   "cell_type": "code",
   "execution_count": 3,
   "id": "a087ad35",
   "metadata": {},
   "outputs": [],
   "source": [
    "def predict_face(reshaped_face, model):\n",
    "    CATEGORIES = ['real', 'fake']\n",
    "    prediction = model.predict(reshaped_face)\n",
    "    return CATEGORIES[int(prediction[0][0])]"
   ]
  },
  {
   "cell_type": "code",
   "execution_count": 4,
   "id": "2e38a3f7",
   "metadata": {},
   "outputs": [],
   "source": [
    "def reshape_face(face):\n",
    "    IMG_SIZE = 100\n",
    "    img_array = cv2.imread(face) \n",
    "    new_array = cv2.resize(img_array, (IMG_SIZE, IMG_SIZE))\n",
    "    return new_array.reshape(-1, IMG_SIZE, IMG_SIZE, 3)"
   ]
  },
  {
   "cell_type": "code",
   "execution_count": 5,
   "id": "7badc5a8",
   "metadata": {},
   "outputs": [],
   "source": [
    "def get_face(image):\n",
    "    file_name = 'haarcascade_frontalface_alt.xml'\n",
    "    lib_dir_path = r\"C:\\Users\\adria\\Desktop\\hackathon\\aplikacja\\venv\\Lib\\site-packages\\cv2\\data\"\n",
    "    face_cascade_path  = os.path.join(lib_dir_path, file_name)\n",
    "    face_cascade = cv2.CascadeClassifier(face_cascade_path)\n",
    "    \n",
    "    gray = cv2.cvtColor(image, cv2.COLOR_BGR2GRAY)\n",
    "    \n",
    "    faces = face_cascade.detectMultiScale(gray, 1.3, 5)\n",
    "    face_exist = False\n",
    "    for (x,y,w,h) in faces:\n",
    "        face_exist = True\n",
    "        image = image[y:y+h, x:x+w]\n",
    "    if face_exist:\n",
    "        return image\n",
    "    else:\n",
    "        return None"
   ]
  },
  {
   "cell_type": "code",
   "execution_count": 6,
   "id": "3f50be4f",
   "metadata": {},
   "outputs": [],
   "source": [
    "def predict_video(source_video_path, model):\n",
    "    fake_frames = 0\n",
    "    real_frames = 0\n",
    "    vidcap = cv2.VideoCapture(source_video_path)\n",
    "    success, image = vidcap.read()\n",
    "    while success:\n",
    "        ret, frame = vidcap.read()\n",
    "        if frame is not None:\n",
    "            face = get_face(frame)\n",
    "#             print(type(face))\n",
    "            if face is not None:\n",
    "                cv2.imwrite('temporary.png', face)\n",
    "#                 plt.imshow(face)\n",
    "#                 plt.show()\n",
    "                reshaped_face = reshape_face('temporary.png')\n",
    "                result = predict_face(reshaped_face, model)\n",
    "                if result == \"fake\":\n",
    "                    fake_frames += 1\n",
    "                else:\n",
    "                    real_frames += 1\n",
    "        else: \n",
    "            break\n",
    "    print(\"To jest fake na {}%\".format(fake_frames/(fake_frames+real_frames)))"
   ]
  },
  {
   "cell_type": "code",
   "execution_count": 9,
   "id": "b470408f",
   "metadata": {},
   "outputs": [
    {
     "name": "stdout",
     "output_type": "stream",
     "text": [
      "To jest fake na 0.5596330275229358%\n"
     ]
    }
   ],
   "source": [
    "model = tf.keras.models.load_model('mesonet.model')\n",
    "source_video_path = r\"C:\\Users\\adria\\Desktop\\hackathon\\fakeExample2.mp4\"\n",
    "predict_video(source_video_path, model)"
   ]
  },
  {
   "cell_type": "code",
   "execution_count": 10,
   "id": "da1c589e",
   "metadata": {},
   "outputs": [
    {
     "name": "stdout",
     "output_type": "stream",
     "text": [
      "To jest fake na 0.0%\n"
     ]
    }
   ],
   "source": [
    "source_video_path = r\"C:\\Users\\adria\\Desktop\\hackathon\\realExample2.mp4\"\n",
    "predict_video(source_video_path, model)"
   ]
  },
  {
   "cell_type": "code",
   "execution_count": null,
   "id": "00e5f4c7",
   "metadata": {},
   "outputs": [],
   "source": []
  }
 ],
 "metadata": {
  "kernelspec": {
   "display_name": "Python 3 (ipykernel)",
   "language": "python",
   "name": "python3"
  },
  "language_info": {
   "codemirror_mode": {
    "name": "ipython",
    "version": 3
   },
   "file_extension": ".py",
   "mimetype": "text/x-python",
   "name": "python",
   "nbconvert_exporter": "python",
   "pygments_lexer": "ipython3",
   "version": "3.8.6"
  }
 },
 "nbformat": 4,
 "nbformat_minor": 5
}
