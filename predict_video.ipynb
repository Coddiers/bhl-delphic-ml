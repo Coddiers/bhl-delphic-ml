{
 "cells": [
  {
   "cell_type": "code",
   "execution_count": 1,
   "id": "c4031e0e",
   "metadata": {},
   "outputs": [],
   "source": [
    "import cv2\n",
    "import tensorflow as tf\n",
    "import numpy as np\n",
    "import os\n",
    "import matplotlib.pyplot as plt\n",
    "import matplotlib.image as mpimg"
   ]
  },
  {
   "cell_type": "code",
   "execution_count": 2,
   "id": "a087ad35",
   "metadata": {},
   "outputs": [],
   "source": [
    "def predict_face(reshaped_face, model):\n",
    "    CATEGORIES = ['real', 'fake']\n",
    "    prediction = model.predict(reshaped_face)\n",
    "    return CATEGORIES[int(prediction[0][0])]"
   ]
  },
  {
   "cell_type": "code",
   "execution_count": 3,
   "id": "2e38a3f7",
   "metadata": {},
   "outputs": [],
   "source": [
    "def reshape_face(face):\n",
    "    IMG_SIZE = 100\n",
    "    img_array = cv2.imread(face) \n",
    "    new_array = cv2.resize(img_array, (IMG_SIZE, IMG_SIZE))\n",
    "    return new_array.reshape(-1, IMG_SIZE, IMG_SIZE, 3)"
   ]
  },
  {
   "cell_type": "code",
   "execution_count": 4,
   "id": "7badc5a8",
   "metadata": {},
   "outputs": [],
   "source": [
    "def get_face(image):\n",
    "    file_name = 'haarcascade_frontalface_alt.xml'\n",
    "    lib_dir_path = r\"C:\\Users\\adria\\Desktop\\hackathon\\aplikacja\\venv\\Lib\\site-packages\\cv2\\data\"\n",
    "    face_cascade_path  = os.path.join(lib_dir_path, file_name)\n",
    "    face_cascade = cv2.CascadeClassifier(face_cascade_path)\n",
    "    \n",
    "    gray = cv2.cvtColor(image, cv2.COLOR_BGR2GRAY)\n",
    "    \n",
    "    faces = face_cascade.detectMultiScale(gray, 1.3, 5)\n",
    "    face_exist = False\n",
    "    for (x,y,w,h) in faces:\n",
    "        face_exist = True\n",
    "        image = image[y:y+h, x:x+w]\n",
    "    if face_exist:\n",
    "        return image\n",
    "    else:\n",
    "        return None"
   ]
  },
  {
   "cell_type": "code",
   "execution_count": 5,
   "id": "3f50be4f",
   "metadata": {},
   "outputs": [],
   "source": [
    "def predict_video(source_video_path, model):\n",
    "    fake_frames = 0\n",
    "    real_frames = 0\n",
    "    vidcap = cv2.VideoCapture(source_video_path)\n",
    "    success, image = vidcap.read()\n",
    "    while success:\n",
    "        ret, frame = vidcap.read()\n",
    "        if frame is not None and ret is True:\n",
    "            face = get_face(frame)\n",
    "            if face is not None and face.shape[0] > 0 and face.shape[1]>0:\n",
    "#                 plt.imshow(face)\n",
    "#                 plt.show()\n",
    "                cv2.imwrite('temporary.png', face)\n",
    "                reshaped_face = reshape_face('temporary.png')\n",
    "                result = predict_face(reshaped_face, model)\n",
    "                if result == \"fake\":\n",
    "                    fake_frames += 1\n",
    "                else:\n",
    "                    real_frames += 1\n",
    "        else: \n",
    "            break\n",
    "    print(\"To jest fake na {} %\".format(fake_frames/(fake_frames+real_frames)))"
   ]
  },
  {
   "cell_type": "code",
   "execution_count": 6,
   "id": "1fdd18ac",
   "metadata": {},
   "outputs": [],
   "source": [
    "model = tf.keras.models.load_model('mesonet.model')"
   ]
  },
  {
   "cell_type": "code",
   "execution_count": 7,
   "id": "9a75b0ed",
   "metadata": {},
   "outputs": [
    {
     "name": "stdout",
     "output_type": "stream",
     "text": [
      "To jest fake na 0.571917808219178 %\n"
     ]
    }
   ],
   "source": [
    "source_video_path = r\"C:\\Users\\adria\\Desktop\\hackathon\\fakeExample1.mp4\"\n",
    "predict_video(source_video_path, model)"
   ]
  },
  {
   "cell_type": "code",
   "execution_count": 15,
   "id": "12d5f7bb",
   "metadata": {},
   "outputs": [
    {
     "name": "stdout",
     "output_type": "stream",
     "text": [
      "To jest fake na 0.5596330275229358 %\n"
     ]
    }
   ],
   "source": [
    "source_video_path = r\"C:\\Users\\adria\\Desktop\\hackathon\\fakeExample2.mp4\"\n",
    "predict_video(source_video_path, model)"
   ]
  },
  {
   "cell_type": "code",
   "execution_count": 16,
   "id": "65e71c2f",
   "metadata": {},
   "outputs": [
    {
     "name": "stdout",
     "output_type": "stream",
     "text": [
      "To jest fake na 0.02766798418972332 %\n"
     ]
    }
   ],
   "source": [
    "source_video_path = r\"C:\\Users\\adria\\Desktop\\hackathon\\fakeExample3.mp4\"\n",
    "predict_video(source_video_path, model)"
   ]
  },
  {
   "cell_type": "code",
   "execution_count": 17,
   "id": "461717d1",
   "metadata": {},
   "outputs": [
    {
     "name": "stdout",
     "output_type": "stream",
     "text": [
      "To jest fake na 0.008968609865470852 %\n"
     ]
    }
   ],
   "source": [
    "source_video_path = r\"C:\\Users\\adria\\Desktop\\hackathon\\fakeExample4.mp4\"\n",
    "predict_video(source_video_path, model)"
   ]
  },
  {
   "cell_type": "code",
   "execution_count": 18,
   "id": "67598e24",
   "metadata": {},
   "outputs": [
    {
     "name": "stdout",
     "output_type": "stream",
     "text": [
      "To jest fake na 0.47058823529411764 %\n"
     ]
    }
   ],
   "source": [
    "source_video_path = r\"C:\\Users\\adria\\Desktop\\hackathon\\fakeExample5.mp4\"\n",
    "predict_video(source_video_path, model)"
   ]
  },
  {
   "cell_type": "code",
   "execution_count": 8,
   "id": "611ebdce",
   "metadata": {},
   "outputs": [
    {
     "name": "stdout",
     "output_type": "stream",
     "text": [
      "To jest fake na 0.14035087719298245 %\n"
     ]
    }
   ],
   "source": [
    "source_video_path = r\"C:\\Users\\adria\\Desktop\\hackathon\\aplikacja\\data\\train\\fake_videos\\abqwwspghj.mp4\"\n",
    "predict_video(source_video_path, model)"
   ]
  },
  {
   "cell_type": "code",
   "execution_count": null,
   "id": "19a2f1c1",
   "metadata": {},
   "outputs": [],
   "source": []
  }
 ],
 "metadata": {
  "kernelspec": {
   "display_name": "Python 3 (ipykernel)",
   "language": "python",
   "name": "python3"
  },
  "language_info": {
   "codemirror_mode": {
    "name": "ipython",
    "version": 3
   },
   "file_extension": ".py",
   "mimetype": "text/x-python",
   "name": "python",
   "nbconvert_exporter": "python",
   "pygments_lexer": "ipython3",
   "version": "3.8.6"
  }
 },
 "nbformat": 4,
 "nbformat_minor": 5
}
