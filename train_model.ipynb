{
 "cells": [
  {
   "cell_type": "code",
   "execution_count": 1,
   "id": "2cd45f1c",
   "metadata": {},
   "outputs": [],
   "source": [
    "import tensorflow as tf\n",
    "from tensorflow import keras\n",
    "from tensorflow.keras import layers\n",
    "\n",
    "def mesonet_flow(inputs):\n",
    "    x = layers.Conv2D(8, (3, 3), padding='same', activation = 'relu')(inputs)\n",
    "    x = layers.BatchNormalization()(x)\n",
    "    x = layers.MaxPooling2D(pool_size=(2, 2), padding='same')(x)\n",
    "\n",
    "    x = layers.Conv2D(8, (5, 5), padding='same', activation = 'relu')(x)\n",
    "    x = layers.BatchNormalization()(x)\n",
    "    x = layers.MaxPooling2D(pool_size=(2, 2), padding='same')(x)\n",
    "\n",
    "    x = layers.Conv2D(16, (5, 5), padding='same', activation = 'relu')(x)\n",
    "    x = layers.BatchNormalization()(x)\n",
    "    x = layers.MaxPooling2D(pool_size=(2, 2), padding='same')(x)\n",
    "\n",
    "    x = layers.Conv2D(16, (5, 5), padding='same', activation = 'relu')(x)\n",
    "    x = layers.BatchNormalization()(x)\n",
    "    x = layers.MaxPooling2D(pool_size=(4, 4), padding='same')(x)\n",
    "\n",
    "    x = layers.Flatten()(x)\n",
    "    x = layers.Dropout(0.5)(x)\n",
    "    x = layers.Dense(16)(x)\n",
    "\n",
    "    x = layers.LeakyReLU(alpha=0.1)(x)\n",
    "    x = layers.Dropout(0.5)(x)\n",
    "    return layers.Dense(1, activation='sigmoid')(x)"
   ]
  },
  {
   "cell_type": "code",
   "execution_count": 2,
   "id": "1855ce5b",
   "metadata": {},
   "outputs": [],
   "source": [
    "keras.backend.clear_session()\n",
    "inputs = keras.Input(shape=(100, 100, 3))\n",
    "outputs = mesonet_flow(inputs)\n",
    "mesonet = keras.Model(inputs, outputs)"
   ]
  },
  {
   "cell_type": "code",
   "execution_count": 3,
   "id": "39bbdf32",
   "metadata": {},
   "outputs": [],
   "source": [
    "import pickle\n",
    "X_train = pickle.load(open(\"XColorTrain.pickle\", \"rb\"))\n",
    "y_train = pickle.load(open(\"yColorTrain.pickle\", \"rb\"))"
   ]
  },
  {
   "cell_type": "code",
   "execution_count": 4,
   "id": "c65d330e",
   "metadata": {},
   "outputs": [
    {
     "name": "stdout",
     "output_type": "stream",
     "text": [
      "Epoch 1/10\n",
      "574/574 [==============================] - 18s 23ms/step - loss: 0.7466 - accuracy: 0.5975 - val_loss: 0.5933 - val_accuracy: 0.6505\n",
      "Epoch 2/10\n",
      "574/574 [==============================] - 11s 20ms/step - loss: 0.5803 - accuracy: 0.6856 - val_loss: 0.4653 - val_accuracy: 0.7891\n",
      "Epoch 3/10\n",
      "574/574 [==============================] - 11s 20ms/step - loss: 0.4591 - accuracy: 0.7789 - val_loss: 0.3326 - val_accuracy: 0.8522\n",
      "Epoch 4/10\n",
      "574/574 [==============================] - 11s 19ms/step - loss: 0.3182 - accuracy: 0.8644 - val_loss: 0.3485 - val_accuracy: 0.8119\n",
      "Epoch 5/10\n",
      "574/574 [==============================] - 11s 19ms/step - loss: 0.2337 - accuracy: 0.9045 - val_loss: 0.1630 - val_accuracy: 0.9412\n",
      "Epoch 6/10\n",
      "574/574 [==============================] - 11s 19ms/step - loss: 0.1810 - accuracy: 0.9267 - val_loss: 0.3254 - val_accuracy: 0.8770\n",
      "Epoch 7/10\n",
      "574/574 [==============================] - 11s 19ms/step - loss: 0.1503 - accuracy: 0.9409 - val_loss: 0.1719 - val_accuracy: 0.9331\n",
      "Epoch 8/10\n",
      "574/574 [==============================] - 11s 19ms/step - loss: 0.1246 - accuracy: 0.9538 - val_loss: 0.0819 - val_accuracy: 0.9702\n",
      "Epoch 9/10\n",
      "574/574 [==============================] - 11s 19ms/step - loss: 0.1139 - accuracy: 0.9572 - val_loss: 0.0768 - val_accuracy: 0.9737\n",
      "Epoch 10/10\n",
      "574/574 [==============================] - 11s 19ms/step - loss: 0.1027 - accuracy: 0.9602 - val_loss: 0.0938 - val_accuracy: 0.9630\n"
     ]
    },
    {
     "data": {
      "text/plain": [
       "<keras.callbacks.History at 0x2057bd27370>"
      ]
     },
     "execution_count": 4,
     "metadata": {},
     "output_type": "execute_result"
    }
   ],
   "source": [
    "mesonet.compile(loss='binary_crossentropy',\n",
    "              optimizer='adam',\n",
    "              metrics=['accuracy'])\n",
    "\n",
    "mesonet.fit(X_train, y_train, batch_size=32, epochs=10, validation_split=0.3)"
   ]
  },
  {
   "cell_type": "code",
   "execution_count": 5,
   "id": "a8920f6f",
   "metadata": {},
   "outputs": [
    {
     "name": "stdout",
     "output_type": "stream",
     "text": [
      "Model: \"model\"\n",
      "_________________________________________________________________\n",
      " Layer (type)                Output Shape              Param #   \n",
      "=================================================================\n",
      " input_1 (InputLayer)        [(None, 100, 100, 3)]     0         \n",
      "                                                                 \n",
      " conv2d (Conv2D)             (None, 100, 100, 8)       224       \n",
      "                                                                 \n",
      " batch_normalization (BatchN  (None, 100, 100, 8)      32        \n",
      " ormalization)                                                   \n",
      "                                                                 \n",
      " max_pooling2d (MaxPooling2D  (None, 50, 50, 8)        0         \n",
      " )                                                               \n",
      "                                                                 \n",
      " conv2d_1 (Conv2D)           (None, 50, 50, 8)         1608      \n",
      "                                                                 \n",
      " batch_normalization_1 (Batc  (None, 50, 50, 8)        32        \n",
      " hNormalization)                                                 \n",
      "                                                                 \n",
      " max_pooling2d_1 (MaxPooling  (None, 25, 25, 8)        0         \n",
      " 2D)                                                             \n",
      "                                                                 \n",
      " conv2d_2 (Conv2D)           (None, 25, 25, 16)        3216      \n",
      "                                                                 \n",
      " batch_normalization_2 (Batc  (None, 25, 25, 16)       64        \n",
      " hNormalization)                                                 \n",
      "                                                                 \n",
      " max_pooling2d_2 (MaxPooling  (None, 13, 13, 16)       0         \n",
      " 2D)                                                             \n",
      "                                                                 \n",
      " conv2d_3 (Conv2D)           (None, 13, 13, 16)        6416      \n",
      "                                                                 \n",
      " batch_normalization_3 (Batc  (None, 13, 13, 16)       64        \n",
      " hNormalization)                                                 \n",
      "                                                                 \n",
      " max_pooling2d_3 (MaxPooling  (None, 4, 4, 16)         0         \n",
      " 2D)                                                             \n",
      "                                                                 \n",
      " flatten (Flatten)           (None, 256)               0         \n",
      "                                                                 \n",
      " dropout (Dropout)           (None, 256)               0         \n",
      "                                                                 \n",
      " dense (Dense)               (None, 16)                4112      \n",
      "                                                                 \n",
      " leaky_re_lu (LeakyReLU)     (None, 16)                0         \n",
      "                                                                 \n",
      " dropout_1 (Dropout)         (None, 16)                0         \n",
      "                                                                 \n",
      " dense_1 (Dense)             (None, 1)                 17        \n",
      "                                                                 \n",
      "=================================================================\n",
      "Total params: 15,785\n",
      "Trainable params: 15,689\n",
      "Non-trainable params: 96\n",
      "_________________________________________________________________\n"
     ]
    }
   ],
   "source": [
    "mesonet.summary()"
   ]
  },
  {
   "cell_type": "code",
   "execution_count": 8,
   "id": "9ebbb510",
   "metadata": {},
   "outputs": [
    {
     "name": "stdout",
     "output_type": "stream",
     "text": [
      "819/819 [==============================] - 6s 7ms/step - loss: 0.0758 - accuracy: 0.9694\n"
     ]
    },
    {
     "data": {
      "text/plain": [
       "[0.07579873502254486, 0.9694344997406006]"
      ]
     },
     "execution_count": 8,
     "metadata": {},
     "output_type": "execute_result"
    }
   ],
   "source": [
    "mesonet.evaluate(X_train, y_train)"
   ]
  },
  {
   "cell_type": "code",
   "execution_count": 9,
   "id": "a4146e18",
   "metadata": {},
   "outputs": [
    {
     "name": "stdout",
     "output_type": "stream",
     "text": [
      "INFO:tensorflow:Assets written to: mesonet.model\\assets\n"
     ]
    }
   ],
   "source": [
    "mesonet.save('mesonet.model')"
   ]
  },
  {
   "cell_type": "code",
   "execution_count": null,
   "id": "b3d68595",
   "metadata": {},
   "outputs": [],
   "source": []
  }
 ],
 "metadata": {
  "kernelspec": {
   "display_name": "Python 3 (ipykernel)",
   "language": "python",
   "name": "python3"
  },
  "language_info": {
   "codemirror_mode": {
    "name": "ipython",
    "version": 3
   },
   "file_extension": ".py",
   "mimetype": "text/x-python",
   "name": "python",
   "nbconvert_exporter": "python",
   "pygments_lexer": "ipython3",
   "version": "3.8.6"
  }
 },
 "nbformat": 4,
 "nbformat_minor": 5
}
